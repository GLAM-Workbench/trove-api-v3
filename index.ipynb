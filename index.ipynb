{
 "cells": [
  {
   "cell_type": "markdown",
   "id": "fbaf000d",
   "metadata": {},
   "source": [
    "# Trove API v3\n",
    "\n",
    "Current version: [v0.0.0](https://github.com/GLAM-Workbench/trove-api-v3/releases/tag/v0.0.0)\n",
    "\n",
    "Examples and documentation using v3 of the Trove API For more information see the [Trove API v3](https://glam-workbench.net/trove-api-v3/) section of the GLAM Workbench.\n",
    "\n",
    "## Notebook topics\n",
    "\n",
    "* [Notebook title](notebook.ipynb) – this notebook does things\n",
    "\n",
    "See the [GLAM Workbench for more details](https://glam-workbench.github.io/trove-api-v3/).\n"
   ]
  },
  {
   "cell_type": "markdown",
   "id": "caa5cc6e",
   "metadata": {},
   "source": [
    "## Cite as\n",
    "\n",
    "See the GLAM Workbench or [Zenodo](https://doi.org/10.5281/zenodo.3521724) for up-to-date citation details.\n",
    "\n",
    "----\n",
    "\n",
    "This repository is part of the [GLAM Workbench](https://glam-workbench.github.io/).  \n"
   ]
  }
 ],
 "metadata": {
  "jupytext": {
   "cell_metadata_filter": "-all"
  },
  "kernelspec": {
   "display_name": "Python 3 (ipykernel)",
   "language": "python",
   "name": "python3"
  }
 },
 "nbformat": 4,
 "nbformat_minor": 5
}
